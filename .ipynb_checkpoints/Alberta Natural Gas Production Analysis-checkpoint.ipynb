{
 "cells": [
  {
   "cell_type": "markdown",
   "id": "fc157191-26b3-431b-974f-8bbe7c67015e",
   "metadata": {},
   "source": [
    "# Analysing Natural Gas Production Data by Municipality in Alberta, Canada"
   ]
  },
  {
   "cell_type": "markdown",
   "id": "1032666a-0811-4d33-b62b-d19f4d23d3ba",
   "metadata": {},
   "source": [
    "## Loading the csv file into the dataframe\n"
   ]
  },
  {
   "cell_type": "code",
   "execution_count": 4,
   "id": "165d592d-499e-4746-9dd3-7c1d0780ce84",
   "metadata": {},
   "outputs": [],
   "source": [
    "import pandas as pd\n",
    "\n",
    "df = pd.read_csv(\"gas_prod.csv\")"
   ]
  },
  {
   "cell_type": "markdown",
   "id": "80183229-dc82-4128-92e5-1260a8210d92",
   "metadata": {},
   "source": [
    "## Trying to get a peep into the dataframe"
   ]
  },
  {
   "cell_type": "code",
   "execution_count": 7,
   "id": "3565eaa3-cc2f-4323-9200-7596d7f6c83d",
   "metadata": {},
   "outputs": [
    {
     "name": "stdout",
     "output_type": "stream",
     "text": [
      "    CSDUID         CSD  Period IndicatorSummaryDescription UnitOfMeasure  \\\n",
      "0  4805026  Drumheller    2003      Natural Gas Production            m3   \n",
      "1  4805026  Drumheller    2004      Natural Gas Production            m3   \n",
      "2  4805026  Drumheller    2005      Natural Gas Production            m3   \n",
      "3  4805026  Drumheller    2006      Natural Gas Production            m3   \n",
      "4  4805026  Drumheller    2007      Natural Gas Production            m3   \n",
      "\n",
      "   OriginalValue  \n",
      "0       104493.2  \n",
      "1       105486.4  \n",
      "2       130930.0  \n",
      "3       128564.0  \n",
      "4       124354.0  \n",
      "       CSDUID                CSD  Period IndicatorSummaryDescription  \\\n",
      "1642  4814003  Yellowhead County    2019      Natural Gas Production   \n",
      "1643  4814003  Yellowhead County    2020      Natural Gas Production   \n",
      "1644  4814003  Yellowhead County    2021      Natural Gas Production   \n",
      "1645  4814003  Yellowhead County    2022      Natural Gas Production   \n",
      "1646  4814003  Yellowhead County    2023      Natural Gas Production   \n",
      "\n",
      "     UnitOfMeasure  OriginalValue  \n",
      "1642            m3     24212801.8  \n",
      "1643            m3     23023883.2  \n",
      "1644            m3     23373980.2  \n",
      "1645            m3     23205534.1  \n",
      "1646            m3     21776608.1  \n"
     ]
    }
   ],
   "source": [
    "# Getting the first 5 records in the data frame using the head method\n",
    "print(df.head())\n",
    "\n",
    "# Getting the last 5 records in the data frame using the tail method\n",
    "print(df.tail())"
   ]
  },
  {
   "cell_type": "markdown",
   "id": "b556389a-4531-4f33-9c62-ec35e348764a",
   "metadata": {},
   "source": [
    "## Understanding the dataset"
   ]
  },
  {
   "cell_type": "code",
   "execution_count": 19,
   "id": "c44c3475-913c-4431-be29-39f210d720ec",
   "metadata": {},
   "outputs": [
    {
     "name": "stdout",
     "output_type": "stream",
     "text": [
      "The dataset has 1647 rows and 6 columns\n",
      "\n",
      "<class 'pandas.core.frame.DataFrame'>\n",
      "RangeIndex: 1647 entries, 0 to 1646\n",
      "Data columns (total 6 columns):\n",
      " #   Column                       Non-Null Count  Dtype  \n",
      "---  ------                       --------------  -----  \n",
      " 0   CSDUID                       1647 non-null   int64  \n",
      " 1   CSD                          1647 non-null   object \n",
      " 2   Period                       1647 non-null   int64  \n",
      " 3   IndicatorSummaryDescription  1647 non-null   object \n",
      " 4   UnitOfMeasure                1647 non-null   object \n",
      " 5   OriginalValue                1647 non-null   float64\n",
      "dtypes: float64(1), int64(2), object(3)\n",
      "memory usage: 77.3+ KB\n",
      "None\n",
      "\n",
      "             CSDUID       Period  OriginalValue\n",
      "count  1.647000e+03  1647.000000   1.647000e+03\n",
      "mean   4.810299e+06  2012.839709   1.808997e+06\n",
      "std    5.317912e+03     6.094421   4.217402e+06\n",
      "min    4.801003e+06  2003.000000   0.000000e+00\n",
      "25%    4.806001e+06  2007.000000   1.579735e+05\n",
      "50%    4.811001e+06  2013.000000   5.245669e+05\n",
      "75%    4.815007e+06  2018.000000   1.493363e+06\n",
      "max    4.819071e+06  2023.000000   3.950372e+07\n"
     ]
    }
   ],
   "source": [
    "# Getting the shape of the dataset\n",
    "df_shape = df.shape\n",
    "print(f\"The dataset has {df_shape[0]} rows and {df_shape[1]} columns\")\n",
    "\n",
    "print()\n",
    "\n",
    "# Getting the information about each colum in the dataset\n",
    "print(df.info())\n",
    "\n",
    "print()\n",
    "\n",
    "# Getting the statistical summary for the numerical columns in the dataset\n",
    "print(df.describe())"
   ]
  },
  {
   "cell_type": "markdown",
   "id": "60749ee4-4cda-4fdb-a699-b72656d76ad9",
   "metadata": {},
   "source": [
    "## Analysing the dataset"
   ]
  },
  {
   "cell_type": "code",
   "execution_count": 45,
   "id": "22f3a2de-3680-4437-a62e-d4d4b320d485",
   "metadata": {},
   "outputs": [
    {
     "name": "stdout",
     "output_type": "stream",
     "text": [
      "CSD\n",
      "Acadia No. 34                884337.1\n",
      "Athabasca County            5720533.9\n",
      "Barrhead County No. 11      5690824.4\n",
      "Beaver County              11734793.8\n",
      "Big Lakes County           10507574.2\n",
      "                             ...     \n",
      "Wheatland County           78249042.6\n",
      "Willow Creek No. 26        12169996.7\n",
      "Wood Buffalo               26404812.0\n",
      "Woodlands County           31260534.9\n",
      "Yellowhead County         455328557.5\n",
      "Name: OriginalValue, Length: 83, dtype: float64\n",
      "CSD\n",
      "Greenview No. 16                                   543320505.1\n",
      "Yellowhead County                                  455328557.5\n",
      "Clearwater County                                  276229168.8\n",
      "Saddle Hills County                                146473522.5\n",
      "Grande Prairie County No. 1                        125766928.2\n",
      "                                                      ...     \n",
      "Fort Saskatchewan                                          0.0\n",
      "Improvement District No. 12 Jasper Park                    0.0\n",
      "Improvement District No. 13 Elk Island                     0.0\n",
      "Improvement District No. 25 Willmore Wilderness            0.0\n",
      "Jasper                                                     0.0\n",
      "Name: OriginalValue, Length: 83, dtype: float64\n",
      "\n",
      "The total production of Drumheller is 1659764.3\n",
      "\n",
      "      CSDUID       CSD  Period IndicatorSummaryDescription UnitOfMeasure  \\\n",
      "258  4811061  Edmonton    2023      Natural Gas Production            m3   \n",
      "259  4811061  Edmonton    2003      Natural Gas Production            m3   \n",
      "260  4811061  Edmonton    2004      Natural Gas Production            m3   \n",
      "261  4811061  Edmonton    2005      Natural Gas Production            m3   \n",
      "262  4811061  Edmonton    2006      Natural Gas Production            m3   \n",
      "263  4811061  Edmonton    2007      Natural Gas Production            m3   \n",
      "264  4811061  Edmonton    2008      Natural Gas Production            m3   \n",
      "265  4811061  Edmonton    2009      Natural Gas Production            m3   \n",
      "266  4811061  Edmonton    2010      Natural Gas Production            m3   \n",
      "267  4811061  Edmonton    2011      Natural Gas Production            m3   \n",
      "268  4811061  Edmonton    2012      Natural Gas Production            m3   \n",
      "269  4811061  Edmonton    2013      Natural Gas Production            m3   \n",
      "270  4811061  Edmonton    2014      Natural Gas Production            m3   \n",
      "271  4811061  Edmonton    2015      Natural Gas Production            m3   \n",
      "272  4811061  Edmonton    2016      Natural Gas Production            m3   \n",
      "273  4811061  Edmonton    2017      Natural Gas Production            m3   \n",
      "274  4811061  Edmonton    2018      Natural Gas Production            m3   \n",
      "275  4811061  Edmonton    2019      Natural Gas Production            m3   \n",
      "276  4811061  Edmonton    2020      Natural Gas Production            m3   \n",
      "277  4811061  Edmonton    2021      Natural Gas Production            m3   \n",
      "278  4811061  Edmonton    2022      Natural Gas Production            m3   \n",
      "\n",
      "     OriginalValue  \n",
      "258          905.5  \n",
      "259        16594.0  \n",
      "260         9738.5  \n",
      "261         7058.0  \n",
      "262         4519.0  \n",
      "263         5014.0  \n",
      "264         4979.2  \n",
      "265         5214.7  \n",
      "266         4747.5  \n",
      "267         4804.3  \n",
      "268         4106.6  \n",
      "269         3946.6  \n",
      "270         2750.1  \n",
      "271         1088.6  \n",
      "272          786.4  \n",
      "273         1143.5  \n",
      "274         1212.0  \n",
      "275         1125.1  \n",
      "276         1057.9  \n",
      "277          825.3  \n",
      "278          793.9  \n",
      "\n"
     ]
    },
    {
     "data": {
      "text/plain": [
       "16594.0"
      ]
     },
     "execution_count": 45,
     "metadata": {},
     "output_type": "execute_result"
    }
   ],
   "source": [
    "# Grouping the dataset by the CSD column and geting the sum of all the gas production ever\n",
    "df_grouped_csd = df.groupby(\"CSD\")[\"OriginalValue\"].sum()\n",
    "print(df_grouped_csd)\n",
    "\n",
    "# Getting the province with the maximum amount of production ever\n",
    "print(df_grouped_csd.sort_values(ascending=False))\n",
    "\n",
    "print(\"\")\n",
    "\n",
    "# Getting the total production of Drumheller\n",
    "print(f\"The total production of Drumheller is {df_grouped_csd[\"Drumheller\"]}\")\n",
    "\n",
    "print(\"\")\n",
    "\n",
    "\n",
    "# Filtering out the da using boolean indexing\n",
    "edmonton_df = df[df[\"CSD\"] == \"Edmonton\"]\n",
    "print(edmonton_df)\n",
    "\n",
    "print(\"\")\n",
    "\n",
    "# Getting the maximum production ever in edmonton\n",
    "edmonton_df.max()[\"OriginalValue\"]\n"
   ]
  },
  {
   "cell_type": "code",
   "execution_count": null,
   "id": "8a898cc2-fe7a-43d3-88c8-98609dba207c",
   "metadata": {},
   "outputs": [],
   "source": []
  }
 ],
 "metadata": {
  "kernelspec": {
   "display_name": "Python [conda env:base] *",
   "language": "python",
   "name": "conda-base-py"
  },
  "language_info": {
   "codemirror_mode": {
    "name": "ipython",
    "version": 3
   },
   "file_extension": ".py",
   "mimetype": "text/x-python",
   "name": "python",
   "nbconvert_exporter": "python",
   "pygments_lexer": "ipython3",
   "version": "3.12.7"
  }
 },
 "nbformat": 4,
 "nbformat_minor": 5
}
